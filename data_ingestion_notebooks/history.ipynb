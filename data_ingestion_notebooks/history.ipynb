{
 "cells": [
  {
   "cell_type": "code",
   "execution_count": 3,
   "id": "27400c06-3543-421e-8cbc-377c4a4747ec",
   "metadata": {},
   "outputs": [
    {
     "name": "stdout",
     "output_type": "stream",
     "text": [
      "(1, 'how is the weather should i go for fishing', \"For fishing, calm weather with low wind speeds and low precipitation likelihood is generally preferred. \\n\\n- On 2024-11-24, the overall condition is overcast clouds with moderate wind speeds around 5-6 m/s and no precipitation probability. It's a reasonable day for fishing.\\n- On 2024-11-25, winds become stronger, especially after 06:00, with increasing precipitation in the afternoon and evening. It may not be ideal for fishing.\\n- On 2024-11-26, while wind speeds remain high, the precipitation probability decreases later in the day, making it somewhat more suitable for fishing compared to the 25th.\\n\\nAdjusting fishing plans to early on the 24th or late on the 26th could maximize better conditions for the activity.\", '2024-11-24 09:53:10.975756')\n",
      "(2, 'how is the weather should planning to plant paddy should go for it?', 'Based on the provided weather data for the next three days:\\n\\n1. **Planting:** The weather conditions seem favorable for planting due to mostly overcast skies which help keep the soil moist and reasonably consistent temperatures. The low probability of precipitation and mild wind speeds reduce the risk of soil disruption or waterlogging. Therefore, it would be a good opportunity for planting activities.\\n\\n2. **Fishing:** The wind speeds are moderate, with some gustiness, particularly on November 25th and 26th, but they are generally within a manageable range for fishing activities. However, the presence of light rain on the evening of the 25th may impact fishing conditions briefly. Despite this, overall conditions appear acceptable for fishing, especially during the early and late parts of the day across this weather span.', '2024-11-24 09:56:41.799247')\n"
     ]
    }
   ],
   "source": [
    "import sqlite3\n",
    "\n",
    "# Connect to the database\n",
    "conn = sqlite3.connect(r'C:\\Users\\Mukesh\\Desktop\\numhack_2024\\chatbot\\db.sqlite3')\n",
    "cursor = conn.cursor()\n",
    "\n",
    "# Define your query\n",
    "query = \"SELECT * FROM chatapp_chatmessage\"\n",
    "\n",
    "# Execute the query\n",
    "cursor.execute(query)\n",
    "\n",
    "# Fetch all results\n",
    "rows = cursor.fetchall()\n",
    "\n",
    "# Close the connection\n",
    "conn.close()\n",
    "\n",
    "# Print the results or process them as needed\n",
    "for row in rows:\n",
    "    print(row)"
   ]
  },
  {
   "cell_type": "code",
   "execution_count": 5,
   "id": "e20d2085-36a8-45ad-9d30-1cc4778ee2b0",
   "metadata": {},
   "outputs": [
    {
     "name": "stdout",
     "output_type": "stream",
     "text": [
      "Last two messages and responses:\n",
      "User Message: how is the weather should planning to plant paddy should go for it?, Bot Response: Based on the provided weather data for the next three days:\n",
      "\n",
      "1. **Planting:** The weather conditions seem favorable for planting due to mostly overcast skies which help keep the soil moist and reasonably consistent temperatures. The low probability of precipitation and mild wind speeds reduce the risk of soil disruption or waterlogging. Therefore, it would be a good opportunity for planting activities.\n",
      "\n",
      "2. **Fishing:** The wind speeds are moderate, with some gustiness, particularly on November 25th and 26th, but they are generally within a manageable range for fishing activities. However, the presence of light rain on the evening of the 25th may impact fishing conditions briefly. Despite this, overall conditions appear acceptable for fishing, especially during the early and late parts of the day across this weather span.\n",
      "User Message: how is the weather should i go for fishing, Bot Response: For fishing, calm weather with low wind speeds and low precipitation likelihood is generally preferred. \n",
      "\n",
      "- On 2024-11-24, the overall condition is overcast clouds with moderate wind speeds around 5-6 m/s and no precipitation probability. It's a reasonable day for fishing.\n",
      "- On 2024-11-25, winds become stronger, especially after 06:00, with increasing precipitation in the afternoon and evening. It may not be ideal for fishing.\n",
      "- On 2024-11-26, while wind speeds remain high, the precipitation probability decreases later in the day, making it somewhat more suitable for fishing compared to the 25th.\n",
      "\n",
      "Adjusting fishing plans to early on the 24th or late on the 26th could maximize better conditions for the activity.\n"
     ]
    }
   ],
   "source": [
    "import sqlite3\n",
    "\n",
    "# Connect to the database\n",
    "conn = sqlite3.connect(r'C:\\Users\\Mukesh\\Desktop\\numhack_2024\\chatbot\\db.sqlite3')\n",
    "cursor = conn.cursor()\n",
    "\n",
    "# Define your query for the last two entries based on 'id'\n",
    "# Ensure 'id' is the correct column to determine the order\n",
    "query = \"SELECT user_message, bot_response FROM chatapp_chatmessage ORDER BY id DESC LIMIT 2\"\n",
    "\n",
    "# Execute the query\n",
    "cursor.execute(query)\n",
    "\n",
    "# Fetch the results\n",
    "rows = cursor.fetchall()\n",
    "\n",
    "# Close the connection\n",
    "conn.close()\n",
    "\n",
    "# Print the results\n",
    "print(\"Last two messages and responses:\")\n",
    "for row in rows:\n",
    "    print(f\"User Message: {row[0]}, Bot Response: {row[1]}\")"
   ]
  },
  {
   "cell_type": "code",
   "execution_count": 9,
   "id": "9465c779-788a-43d1-9db9-2f3cd8bd74bc",
   "metadata": {},
   "outputs": [
    {
     "name": "stdout",
     "output_type": "stream",
     "text": [
      "User Messages: ['how is the weather should planning to plant paddy should go for it?', 'how is the weather should i go for fishing'] ['Based on the provided weather data for the next three days:\\n\\n1. **Planting:** The weather conditions seem favorable for planting due to mostly overcast skies which help keep the soil moist and reasonably consistent temperatures. The low probability of precipitation and mild wind speeds reduce the risk of soil disruption or waterlogging. Therefore, it would be a good opportunity for planting activities.\\n\\n2. **Fishing:** The wind speeds are moderate, with some gustiness, particularly on November 25th and 26th, but they are generally within a manageable range for fishing activities. However, the presence of light rain on the evening of the 25th may impact fishing conditions briefly. Despite this, overall conditions appear acceptable for fishing, especially during the early and late parts of the day across this weather span.', \"For fishing, calm weather with low wind speeds and low precipitation likelihood is generally preferred. \\n\\n- On 2024-11-24, the overall condition is overcast clouds with moderate wind speeds around 5-6 m/s and no precipitation probability. It's a reasonable day for fishing.\\n- On 2024-11-25, winds become stronger, especially after 06:00, with increasing precipitation in the afternoon and evening. It may not be ideal for fishing.\\n- On 2024-11-26, while wind speeds remain high, the precipitation probability decreases later in the day, making it somewhat more suitable for fishing compared to the 25th.\\n\\nAdjusting fishing plans to early on the 24th or late on the 26th could maximize better conditions for the activity.\"]\n"
     ]
    }
   ],
   "source": [
    "import sqlite3\n",
    "from typing import List, Tuple\n",
    "\n",
    "def get_last_two_messages(db_path: str) -> Tuple[List[str], List[str]]:\n",
    "    \"\"\"\n",
    "    Connect to the SQLite database and retrieve the last two entries of user and bot responses.\n",
    "\n",
    "    Args:\n",
    "    - db_path: Path to the SQLite database file.\n",
    "\n",
    "    Returns:\n",
    "    - A tuple containing two lists: user messages and bot responses.\n",
    "    \"\"\"\n",
    "    # Connect to the database\n",
    "    conn = sqlite3.connect(db_path)\n",
    "    cursor = conn.cursor()\n",
    "\n",
    "    try:\n",
    "        # Define your query for the last two entries based on a column like 'id'\n",
    "        query = \"SELECT user_message, bot_response FROM chatapp_chatmessage ORDER BY id DESC LIMIT 2\"\n",
    "\n",
    "        # Execute the query\n",
    "        cursor.execute(query)\n",
    "\n",
    "        # Fetch the results\n",
    "        rows = cursor.fetchall()\n",
    "\n",
    "        # Separate user messages and bot responses\n",
    "        user_messages = [row[0] for row in rows]\n",
    "        bot_responses = [row[1] for row in rows]\n",
    "\n",
    "    finally:\n",
    "        # Ensure the connection is closed even if an error occurs\n",
    "        conn.close()\n",
    "\n",
    "    return user_messages, bot_responses\n",
    "\n",
    "# Example usage:\n",
    "db_path = r'C:\\Users\\Mukesh\\Desktop\\numhack_2024\\chatbot\\db.sqlite3'\n",
    "user_messages, bot_responses = get_last_two_messages(db_path)\n",
    "print(\"User Messages:\", user_messages, bot_responses)\n",
    "# print(\"Bot Responses:\", bot_responses)"
   ]
  },
  {
   "cell_type": "code",
   "execution_count": 10,
   "id": "517b36b2-f93e-40e2-8742-714aa842c95d",
   "metadata": {},
   "outputs": [
    {
     "name": "stdout",
     "output_type": "stream",
     "text": [
      "User Message: how is the weather should planning to plant paddy should go for it?, Bot Response: Based on the provided weather data for the next three days:\n",
      "\n",
      "1. **Planting:** The weather conditions seem favorable for planting due to mostly overcast skies which help keep the soil moist and reasonably consistent temperatures. The low probability of precipitation and mild wind speeds reduce the risk of soil disruption or waterlogging. Therefore, it would be a good opportunity for planting activities.\n",
      "\n",
      "2. **Fishing:** The wind speeds are moderate, with some gustiness, particularly on November 25th and 26th, but they are generally within a manageable range for fishing activities. However, the presence of light rain on the evening of the 25th may impact fishing conditions briefly. Despite this, overall conditions appear acceptable for fishing, especially during the early and late parts of the day across this weather span.\n",
      "User Message: how is the weather should i go for fishing, Bot Response: For fishing, calm weather with low wind speeds and low precipitation likelihood is generally preferred. \n",
      "\n",
      "- On 2024-11-24, the overall condition is overcast clouds with moderate wind speeds around 5-6 m/s and no precipitation probability. It's a reasonable day for fishing.\n",
      "- On 2024-11-25, winds become stronger, especially after 06:00, with increasing precipitation in the afternoon and evening. It may not be ideal for fishing.\n",
      "- On 2024-11-26, while wind speeds remain high, the precipitation probability decreases later in the day, making it somewhat more suitable for fishing compared to the 25th.\n",
      "\n",
      "Adjusting fishing plans to early on the 24th or late on the 26th could maximize better conditions for the activity.\n"
     ]
    }
   ],
   "source": [
    "import sqlite3\n",
    "from typing import List, Tuple\n",
    "\n",
    "def get_last_two_messages(db_path: str) -> List[Tuple[str, str]]:\n",
    "    \"\"\"\n",
    "    Connect to the SQLite database and retrieve the last two entries as pairs of user messages and bot responses.\n",
    "\n",
    "    Args:\n",
    "    - db_path: Path to the SQLite database file.\n",
    "\n",
    "    Returns:\n",
    "    - A list of tuples, each containing a user message and bot response.\n",
    "    \"\"\"\n",
    "    # Connect to the database\n",
    "    conn = sqlite3.connect(db_path)\n",
    "    cursor = conn.cursor()\n",
    "\n",
    "    try:\n",
    "        # Define your query for the last two entries based on a column like 'id'\n",
    "        query = \"SELECT user_message, bot_response FROM chatapp_chatmessage ORDER BY id DESC LIMIT 2\"\n",
    "\n",
    "        # Execute the query\n",
    "        cursor.execute(query)\n",
    "\n",
    "        # Fetch the results\n",
    "        rows = cursor.fetchall()\n",
    "\n",
    "        # Create a list of (user_message, bot_response) tuples\n",
    "        message_pairs = [(row[0], row[1]) for row in rows]\n",
    "\n",
    "    finally:\n",
    "        # Ensure the connection is closed even if an error occurs\n",
    "        conn.close()\n",
    "\n",
    "    return message_pairs\n",
    "\n",
    "# Example usage:\n",
    "db_path = r'C:\\Users\\Mukesh\\Desktop\\numhack_2024\\chatbot\\db.sqlite3'\n",
    "message_pairs = get_last_two_messages(db_path)\n",
    "for user_message, bot_response in message_pairs:\n",
    "    print(f\"User Message: {user_message}, Bot Response: {bot_response}\")"
   ]
  },
  {
   "cell_type": "code",
   "execution_count": null,
   "id": "85f12f83-6dac-46a9-81f5-1807aabf4527",
   "metadata": {},
   "outputs": [],
   "source": []
  }
 ],
 "metadata": {
  "kernelspec": {
   "display_name": "Python 3 (ipykernel)",
   "language": "python",
   "name": "python3"
  },
  "language_info": {
   "codemirror_mode": {
    "name": "ipython",
    "version": 3
   },
   "file_extension": ".py",
   "mimetype": "text/x-python",
   "name": "python",
   "nbconvert_exporter": "python",
   "pygments_lexer": "ipython3",
   "version": "3.11.7"
  },
  "widgets": {
   "application/vnd.jupyter.widget-state+json": {
    "state": {},
    "version_major": 2,
    "version_minor": 0
   }
  }
 },
 "nbformat": 4,
 "nbformat_minor": 5
}
