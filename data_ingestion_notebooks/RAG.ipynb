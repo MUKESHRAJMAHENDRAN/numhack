{
 "cells": [
  {
   "cell_type": "code",
   "execution_count": null,
   "id": "df5ba99a-a909-4eb2-ab07-9dfc6b3a688a",
   "metadata": {},
   "outputs": [],
   "source": [
    "import os"
   ]
  },
  {
   "cell_type": "code",
   "execution_count": 1,
   "id": "2b582eb5-2a22-44ac-b0df-79adcf71f198",
   "metadata": {},
   "outputs": [
    {
     "name": "stdout",
     "output_type": "stream",
     "text": [
      "Current directory: C:\\Users\\Mukesh\\Desktop\\numhack_2024\\data_ingestion_notebooks\n",
      "Parent directory: C:\\Users\\Mukesh\\Desktop\\numhack_2024\n"
     ]
    }
   ],
   "source": [
    "from pathlib import Path\n",
    "\n",
    "# Get the current working directory\n",
    "current_directory = Path.cwd()\n",
    "print(\"Current directory:\", current_directory)\n",
    "\n",
    "# Access the parent directory\n",
    "parent_directory = current_directory.parent\n",
    "print(\"Parent directory:\", parent_directory)"
   ]
  },
  {
   "cell_type": "code",
   "execution_count": 2,
   "id": "423dd041-d514-499a-b1c1-62bf46651fea",
   "metadata": {},
   "outputs": [],
   "source": [
    "# os.getcwd()"
   ]
  },
  {
   "cell_type": "code",
   "execution_count": 3,
   "id": "af3be78e-742c-4e5e-acc8-0d6960e79d72",
   "metadata": {},
   "outputs": [
    {
     "name": "stdout",
     "output_type": "stream",
     "text": [
      "Database path: C:\\Users\\Mukesh\\Desktop\\numhack_2024\\numhack_db\n"
     ]
    }
   ],
   "source": [
    "db_path = parent_directory / \"numhack_db\"\n",
    "print(\"Database path:\", db_path)"
   ]
  },
  {
   "cell_type": "code",
   "execution_count": 4,
   "id": "8c9a1033-df1c-4144-b64c-ed96112f162f",
   "metadata": {},
   "outputs": [],
   "source": [
    "db_path = r'C:\\Users\\Mukesh\\Desktop\\numhack_2024\\chatbot\\chatapp\\numhack_db\\\\'"
   ]
  },
  {
   "cell_type": "code",
   "execution_count": 7,
   "id": "33fff1e5-5d71-432a-ad08-ffaf191df111",
   "metadata": {},
   "outputs": [],
   "source": [
    "from langchain_community.document_loaders import PyPDFLoader\n",
    "from langchain_text_splitters import RecursiveCharacterTextSplitter\n",
    "from langchain_openai import OpenAIEmbeddings\n",
    "from uuid import uuid4\n",
    "import chromadb\n",
    "from langchain_chroma import Chroma\n",
    "from dotenv import load_dotenv\n",
    "import os\n",
    "from openai import OpenAI\n",
    "\n",
    "load_dotenv()\n",
    "api_key = os.getenv(\"API_KEY\")\n",
    "weather_api = os.getenv(\"WEATHER_API\")\n",
    "client = OpenAI(api_key=api_key)\n",
    "\n",
    "\n",
    "def data_ingestion(file_path, collection_name):\n",
    "    # file_path = \"fishing.pdf\"\n",
    "    loader = PyPDFLoader(file_path)\n",
    "    \n",
    "    docs = loader.load()\n",
    "    \n",
    "    text_splitter = RecursiveCharacterTextSplitter(\n",
    "        chunk_size=1000, chunk_overlap=200, add_start_index=True\n",
    "    )\n",
    "    all_splits = text_splitter.split_documents(docs)\n",
    "    embeddings = OpenAIEmbeddings(model=\"text-embedding-3-large\", api_key=api_key)\n",
    "    # C:\\Users\\Mukesh\\Desktop\\numhack_2024\n",
    "    # parent_directory = Path.cwd().parent\n",
    "    db_path =  \"numhack_db\"\n",
    "    # print(db_path)\n",
    "    persistent_client = chromadb.PersistentClient(path=db_path)\n",
    "    collection = persistent_client.get_or_create_collection(collection_name)\n",
    "    \n",
    "    vector_store_from_client = Chroma(\n",
    "        client=persistent_client,\n",
    "        collection_name=collection_name,\n",
    "        embedding_function=embeddings,\n",
    "    )\n",
    "    \n",
    "    uuids = [str(uuid4()) for _ in range(len(all_splits))]\n",
    "    \n",
    "    vector_store_from_client.add_documents(documents=all_splits, ids=uuids)\n",
    "    return \"data_ingested to vector_db\""
   ]
  },
  {
   "cell_type": "code",
   "execution_count": 8,
   "id": "5b56eac2-57c3-4064-ab6a-f8321a70c871",
   "metadata": {},
   "outputs": [
    {
     "name": "stdout",
     "output_type": "stream",
     "text": [
      "numhack_db\n"
     ]
    },
    {
     "data": {
      "text/plain": [
       "'data_ingested to vector_db'"
      ]
     },
     "execution_count": 8,
     "metadata": {},
     "output_type": "execute_result"
    }
   ],
   "source": [
    "data_ingestion(\"principlespractices_saiplatform_2021.pdf\", \"agri_collection\")"
   ]
  },
  {
   "cell_type": "code",
   "execution_count": 9,
   "id": "6bb36d4a-bcbe-42be-9532-8d7ba074200f",
   "metadata": {},
   "outputs": [
    {
     "name": "stdout",
     "output_type": "stream",
     "text": [
      "numhack_db\n"
     ]
    },
    {
     "data": {
      "text/plain": [
       "'data_ingested to vector_db'"
      ]
     },
     "execution_count": 9,
     "metadata": {},
     "output_type": "execute_result"
    }
   ],
   "source": [
    "data_ingestion(\"fishing.pdf\", \"fishing_collection\")"
   ]
  },
  {
   "cell_type": "code",
   "execution_count": 11,
   "id": "a5e499ae-2aa5-4448-bdcc-bbd6b9a754d3",
   "metadata": {},
   "outputs": [],
   "source": [
    "def data_retreival(query, collection_name):\n",
    "    persistent_client = chromadb.PersistentClient(path=\"numhack_db/\")\n",
    "    collection = persistent_client.get_or_create_collection(collection_name)\n",
    "    # collection.add(ids=[\"1\", \"2\", \"3\"], documents=[\"a\", \"b\", \"c\"])\n",
    "    embeddings = OpenAIEmbeddings(model=\"text-embedding-3-large\", api_key=api_key)\n",
    "    vector_store_from_client = Chroma(\n",
    "        client=persistent_client,\n",
    "        collection_name=collection_name,\n",
    "        embedding_function=embeddings,)\n",
    "    \n",
    "    results = vector_store_from_client.similarity_search(query=query,k=2)\n",
    "    retreived_data = \"\"\n",
    "    for res in results:\n",
    "        retreived_data += res.page_content\n",
    "    return retreived_data"
   ]
  },
  {
   "cell_type": "code",
   "execution_count": 12,
   "id": "8fc613e4-124b-45f9-b7a6-b0822689789d",
   "metadata": {},
   "outputs": [],
   "source": [
    "results = data_retreival(\"give me some sustainable farming techniques\", \"agri_collection\")"
   ]
  },
  {
   "cell_type": "code",
   "execution_count": 13,
   "id": "5ef16648-7500-41f3-87c4-7a1a80a259c7",
   "metadata": {},
   "outputs": [
    {
     "data": {
      "text/plain": [
       "'SUSTAINABLE AGRICULTURE  \\nPRINCIPLES & PRACTICES\\n1\\nSustainable Agriculture \\nPrinciples & Practices•   Implement the use of efficient farming practices; inputs and outputs management, \\nsoil health improvement, livestock solutions, and deforestation prevention,  \\namong others. \\n•   Implement farming systems that increase on-farm biomass, both above and below \\nground, and create a significant greenhouse gas sink.\\n•   Reduce the use of non-renewable sources of energy and increase the use of \\nrenewable sources of energy, and optimise the use of energy-intensive inputs,  \\ne.g. inorganic fertilisers.\\n•   Manage all sources of emissions which affect air, noise and odour, such as manure \\nstorage, burning, agrochemical applications, dust, exhaust, machinery maintenance \\netc. to ensure minimal to no emissions. \\n•   Drive energy efficiency to avoid wasting energy and increasing the use of renewable \\nenergy and fuels on-farm.\\n•   Use innovative techniques to identify new carbon sink practices. \\nCONTEXT\\nAgriculture and its associated land use \\nchanges account for 25% of all human'"
      ]
     },
     "execution_count": 13,
     "metadata": {},
     "output_type": "execute_result"
    }
   ],
   "source": [
    "results"
   ]
  }
 ],
 "metadata": {
  "kernelspec": {
   "display_name": "Python 3 (ipykernel)",
   "language": "python",
   "name": "python3"
  },
  "language_info": {
   "codemirror_mode": {
    "name": "ipython",
    "version": 3
   },
   "file_extension": ".py",
   "mimetype": "text/x-python",
   "name": "python",
   "nbconvert_exporter": "python",
   "pygments_lexer": "ipython3",
   "version": "3.11.7"
  },
  "widgets": {
   "application/vnd.jupyter.widget-state+json": {
    "state": {},
    "version_major": 2,
    "version_minor": 0
   }
  }
 },
 "nbformat": 4,
 "nbformat_minor": 5
}
